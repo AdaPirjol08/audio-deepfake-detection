{
  "cells": [
    {
      "cell_type": "code",
      "execution_count": null,
      "metadata": {
        "colab": {
          "base_uri": "https://localhost:8080/"
        },
        "id": "S9PlhJVOJNh5",
        "outputId": "cf66469c-ad39-4d2a-d7ef-ecacfa86090c"
      },
      "outputs": [],
      "source": [
        "# mount your drive\n",
        "\n",
        "from google.colab import drive\n",
        "\n",
        "drive.mount(\"/content/drive\")"
      ]
    },
    {
      "cell_type": "code",
      "execution_count": null,
      "metadata": {
        "id": "sDbNKAWTPaV6"
      },
      "outputs": [],
      "source": [
        "import os\n",
        "import numpy as np\n",
        "import librosa\n",
        "import tensorflow as tf\n",
        "from tensorflow.keras.layers import Input, Conv2D, MaxPooling2D, Flatten, Dense, Dropout\n",
        "from tensorflow.keras.models import Model\n",
        "from tensorflow.keras.utils import to_categorical"
      ]
    },
    {
      "cell_type": "code",
      "execution_count": 6,
      "metadata": {
        "id": "bxvClGw3Pc0B"
      },
      "outputs": [],
      "source": [
        "# Define paths and parameters\n",
        "DATASET_PATH = \"LA/ASVspoof2019_LA_train/flac\"\n",
        "LABEL_FILE_PATH = \"LA/ASVspoof2019_LA_cm_protocols/ASVspoof2019.LA.cm.train.trn.txt\"\n",
        "NUM_CLASSES = 2  # Number of classes (bonafide and spoof)\n",
        "SAMPLE_RATE = 16000  # Sample rate of your audio files\n",
        "DURATION = 5  # Duration of audio clips in seconds\n",
        "N_MELS = 128  # Number of Mel frequency bins"
      ]
    },
    {
      "cell_type": "code",
      "execution_count": 7,
      "metadata": {
        "id": "UyeBVeXLSNQn"
      },
      "outputs": [],
      "source": [
        "labels = {}\n",
        "\n",
        "with open(LABEL_FILE_PATH, 'r') as label_file:\n",
        "    lines = label_file.readlines()\n",
        "\n",
        "for line in lines:\n",
        "    parts = line.strip().split()\n",
        "    file_name = parts[1]\n",
        "    label = 1 if parts[-1] == \"bonafide\" else 0\n",
        "    labels[file_name] = label\n",
        "\n",
        "X = []\n",
        "y = []\n",
        "\n",
        "max_time_steps = 109  # Define the maximum time steps for your model\n",
        "\n",
        "for file_name, label in labels.items():\n",
        "    file_path = os.path.join(DATASET_PATH, file_name + \".flac\")\n",
        "\n",
        "    # Load audio file using librosa\n",
        "    audio, _ = librosa.load(file_path, sr=SAMPLE_RATE, duration=DURATION)\n",
        "\n",
        "    # Extract Mel spectrogram using librosa\n",
        "    mel_spectrogram = librosa.feature.melspectrogram(y=audio, sr=SAMPLE_RATE, n_mels=N_MELS)\n",
        "    mel_spectrogram = librosa.power_to_db(mel_spectrogram, ref=np.max)\n",
        "\n",
        "    # Ensure all spectrograms have the same width (time steps)\n",
        "    if mel_spectrogram.shape[1] < max_time_steps:\n",
        "        mel_spectrogram = np.pad(mel_spectrogram, ((0, 0), (0, max_time_steps - mel_spectrogram.shape[1])), mode='constant')\n",
        "    else:\n",
        "        mel_spectrogram = mel_spectrogram[:, :max_time_steps]\n",
        "\n",
        "    X.append(mel_spectrogram)\n",
        "    y.append(label)"
      ]
    },
    {
      "cell_type": "code",
      "execution_count": null,
      "metadata": {
        "colab": {
          "base_uri": "https://localhost:8080/"
        },
        "id": "kRaT9u43SWwZ",
        "outputId": "afac059e-e5aa-4975-a611-ff32b33a3e0e"
      },
      "outputs": [],
      "source": [
        "X = np.array(X)\n",
        "y = np.array(y)\n",
        "\n",
        "X,y"
      ]
    },
    {
      "cell_type": "code",
      "execution_count": 9,
      "metadata": {
        "id": "hiuB3-tKYtaY"
      },
      "outputs": [],
      "source": [
        "y_encoded = to_categorical(y, NUM_CLASSES)"
      ]
    },
    {
      "cell_type": "code",
      "execution_count": 10,
      "metadata": {
        "id": "Qpd51oPQYzVX"
      },
      "outputs": [],
      "source": [
        "split_index = int(0.8 * len(X))\n",
        "X_train, X_val = X[:split_index], X[split_index:]\n",
        "y_train, y_val = y_encoded[:split_index], y_encoded[split_index:]"
      ]
    },
    {
      "cell_type": "code",
      "execution_count": 11,
      "metadata": {
        "id": "GFWARwGbY1pX"
      },
      "outputs": [],
      "source": [
        "# Define CNN model architecture\n",
        "input_shape = (N_MELS, X_train.shape[2], 1)  # Input shape for CNN (height, width, channels)\n",
        "model_input = Input(shape=input_shape)"
      ]
    },
    {
      "cell_type": "code",
      "execution_count": 12,
      "metadata": {
        "id": "oWcZ9HdlY4EJ"
      },
      "outputs": [],
      "source": [
        "x = Conv2D(32, kernel_size=(3, 3), activation='relu')(model_input)\n",
        "x = MaxPooling2D(pool_size=(2, 2))(x)\n",
        "x = Conv2D(64, kernel_size=(3, 3), activation='relu')(x)\n",
        "x = MaxPooling2D(pool_size=(2, 2))(x)\n",
        "x = Flatten()(x)\n",
        "x = Dense(128, activation='relu')(x)\n",
        "x = Dropout(0.5)(x)\n",
        "model_output = Dense(NUM_CLASSES, activation='softmax')(x)"
      ]
    },
    {
      "cell_type": "code",
      "execution_count": 13,
      "metadata": {
        "id": "Oi5J0oiGY6yw"
      },
      "outputs": [],
      "source": [
        "model = Model(inputs=model_input, outputs=model_output)"
      ]
    },
    {
      "cell_type": "code",
      "execution_count": 14,
      "metadata": {
        "id": "iTo-iOaYY9Ns"
      },
      "outputs": [],
      "source": [
        "model.compile(optimizer='adam', loss='categorical_crossentropy', metrics=['accuracy'])"
      ]
    },
    {
      "cell_type": "code",
      "execution_count": 15,
      "metadata": {
        "colab": {
          "base_uri": "https://localhost:8080/"
        },
        "id": "3Cw81pgfY_kc",
        "outputId": "4f47d238-fa77-46f1-c7e0-b1bfb27da228"
      },
      "outputs": [
        {
          "name": "stdout",
          "output_type": "stream",
          "text": [
            "Epoch 1/10\n",
            "635/635 [==============================] - 125s 194ms/step - loss: 0.8655 - accuracy: 0.8898 - val_loss: 0.6782 - val_accuracy: 0.5757\n",
            "Epoch 2/10\n",
            "635/635 [==============================] - 127s 199ms/step - loss: 0.1696 - accuracy: 0.9287 - val_loss: 1.2812 - val_accuracy: 0.2926\n",
            "Epoch 3/10\n",
            "635/635 [==============================] - 127s 199ms/step - loss: 0.1261 - accuracy: 0.9503 - val_loss: 1.3782 - val_accuracy: 0.3820\n",
            "Epoch 4/10\n",
            "635/635 [==============================] - 129s 203ms/step - loss: 0.0902 - accuracy: 0.9663 - val_loss: 3.0074 - val_accuracy: 0.2179\n",
            "Epoch 5/10\n",
            "635/635 [==============================] - 118s 186ms/step - loss: 0.0537 - accuracy: 0.9809 - val_loss: 2.4005 - val_accuracy: 0.2374\n",
            "Epoch 6/10\n",
            "635/635 [==============================] - 125s 197ms/step - loss: 0.0393 - accuracy: 0.9877 - val_loss: 5.1723 - val_accuracy: 0.2266\n",
            "Epoch 7/10\n",
            "635/635 [==============================] - 127s 199ms/step - loss: 0.0264 - accuracy: 0.9911 - val_loss: 5.7586 - val_accuracy: 0.2573\n",
            "Epoch 8/10\n",
            "635/635 [==============================] - 106s 167ms/step - loss: 0.0893 - accuracy: 0.9678 - val_loss: 6.3777 - val_accuracy: 0.2841\n",
            "Epoch 9/10\n",
            "635/635 [==============================] - 101s 159ms/step - loss: 0.0281 - accuracy: 0.9915 - val_loss: 7.9073 - val_accuracy: 0.1874\n",
            "Epoch 10/10\n",
            "635/635 [==============================] - 174s 275ms/step - loss: 0.0263 - accuracy: 0.9913 - val_loss: 8.0507 - val_accuracy: 0.2047\n"
          ]
        },
        {
          "data": {
            "text/plain": [
              "<keras.src.callbacks.History at 0x7f7adee35750>"
            ]
          },
          "execution_count": 15,
          "metadata": {},
          "output_type": "execute_result"
        }
      ],
      "source": [
        "# Train the Model\n",
        "model.fit(X_train, y_train, batch_size=32, epochs=10, validation_data=(X_val, y_val))"
      ]
    },
    {
      "cell_type": "code",
      "execution_count": 16,
      "metadata": {
        "id": "wovU4AJmZsjg"
      },
      "outputs": [
        {
          "name": "stderr",
          "output_type": "stream",
          "text": [
            "/workspace/audio-deepfake-detection/.venv/lib/python3.11/site-packages/keras/src/engine/training.py:3000: UserWarning: You are saving your model as an HDF5 file via `model.save()`. This file format is considered legacy. We recommend using instead the native Keras format, e.g. `model.save('my_model.keras')`.\n",
            "  saving_api.save_model(\n"
          ]
        }
      ],
      "source": [
        "# saving the model\n",
        "model.save(\"audio_classifier.h5\")"
      ]
    },
    {
      "cell_type": "markdown",
      "metadata": {},
      "source": [
        "--------\n",
        "## Visualisation"
      ]
    },
    {
      "cell_type": "code",
      "execution_count": 3,
      "metadata": {},
      "outputs": [],
      "source": [
        "import matplotlib.pyplot as plt\n",
        "from sklearn.metrics import confusion_matrix, ConfusionMatrixDisplay"
      ]
    },
    {
      "cell_type": "code",
      "execution_count": null,
      "metadata": {},
      "outputs": [],
      "source": [
        "# Load the model and preprocess test data (similar to training data preprocessing)\n",
        "import os\n",
        "import numpy as np\n",
        "import librosa\n",
        "import tensorflow as tf\n",
        "from tensorflow.keras.models import load_model"
      ]
    },
    {
      "cell_type": "code",
      "execution_count": 5,
      "metadata": {},
      "outputs": [],
      "source": [
        "# Define paths and parameters\n",
        "TEST_DATASET_PATH = \"./TestEvaluation\"\n",
        "MODEL_PATH = \"audio_classifier.h5\"  # Replace with the actual path to your saved model\n",
        "SAMPLE_RATE = 16000\n",
        "DURATION = 5\n",
        "N_MELS = 128\n",
        "MAX_TIME_STEPS = 109"
      ]
    },
    {
      "cell_type": "code",
      "execution_count": 6,
      "metadata": {},
      "outputs": [],
      "source": [
        "# Load the saved model\n",
        "model = load_model(MODEL_PATH)"
      ]
    },
    {
      "cell_type": "code",
      "execution_count": 13,
      "metadata": {},
      "outputs": [
        {
          "name": "stdout",
          "output_type": "stream",
          "text": [
            "1/1 [==============================] - 0s 52ms/step\n"
          ]
        },
        {
          "data": {
            "text/plain": [
              "array([[9.9999994e-01, 1.5350160e-08],\n",
              "       [6.7513778e-05, 9.9993247e-01],\n",
              "       [9.9999994e-01, 1.4381893e-36],\n",
              "       [9.9999994e-01, 2.0382490e-08],\n",
              "       [1.1657409e-02, 9.8834246e-01],\n",
              "       [9.9999994e-01, 8.2560174e-12],\n",
              "       [3.1591469e-05, 9.9996835e-01],\n",
              "       [9.9999994e-01, 3.2609187e-33],\n",
              "       [1.2672208e-03, 9.9873275e-01],\n",
              "       [6.8567568e-03, 9.9314320e-01]], dtype=float32)"
            ]
          },
          "execution_count": 13,
          "metadata": {},
          "output_type": "execute_result"
        }
      ],
      "source": [
        "# Load and preprocess test data using librosa\n",
        "X_test = []\n",
        "\n",
        "test_files = os.listdir(TEST_DATASET_PATH)\n",
        "for file_name in test_files:\n",
        "    file_path = os.path.join(TEST_DATASET_PATH, file_name)\n",
        "    \n",
        "    # Load audio file using librosa\n",
        "    audio, _ = librosa.load(file_path, sr=SAMPLE_RATE, duration=DURATION)\n",
        "    \n",
        "    # Extract Mel spectrogram using librosa\n",
        "    mel_spectrogram = librosa.feature.melspectrogram(y=audio, sr=SAMPLE_RATE, n_mels=N_MELS)\n",
        "    mel_spectrogram = librosa.power_to_db(mel_spectrogram, ref=np.max)\n",
        "    \n",
        "    # Ensure all spectrograms have the same width (time steps)\n",
        "    if mel_spectrogram.shape[1] < MAX_TIME_STEPS:\n",
        "        mel_spectrogram = np.pad(mel_spectrogram, ((0, 0), (0, MAX_TIME_STEPS - mel_spectrogram.shape[1])), mode='constant')\n",
        "    else:\n",
        "        mel_spectrogram = mel_spectrogram[:, :MAX_TIME_STEPS]\n",
        "    \n",
        "    X_test.append(mel_spectrogram)\n",
        "\n",
        "# Convert list to numpy array\n",
        "X_test = np.array(X_test)\n",
        "\n",
        "# Predict using the loaded model\n",
        "y_pred = model.predict(X_test)\n",
        "\n",
        "# Convert probabilities to predicted classes\n",
        "y_pred_classes = np.argmax(y_pred, axis=1)\n",
        "\n",
        "y_pred"
      ]
    },
    {
      "cell_type": "code",
      "execution_count": 21,
      "metadata": {},
      "outputs": [
        {
          "name": "stdout",
          "output_type": "stream",
          "text": [
            "['LA_0044 LA_E_1000147 - A10 spoof', 'LA_0067 LA_E_2267312 - - bonafide', 'LA_0020 LA_E_1007069 - A09 spoof', 'LA_0047 LA_E_9521934 - A16 spoof', 'LA_0018 LA_E_5169845 - - bonafide', 'LA_0032 LA_E_2601971 - A16 spoof', 'LA_0042 LA_E_4785445 - - bonafide', 'LA_0006 LA_E_4065507 - A11 spoof', 'LA_0013 LA_E_1644479 - A19 spoof', 'LA_0048 LA_E_4453325 - A17 spoof']\n"
          ]
        },
        {
          "data": {
            "text/plain": [
              "{'LA_0044': 'spoof',\n",
              " 'LA_0067': 'bonafide',\n",
              " 'LA_0020': 'spoof',\n",
              " 'LA_0047': 'spoof',\n",
              " 'LA_0018': 'bonafide',\n",
              " 'LA_0032': 'spoof',\n",
              " 'LA_0042': 'bonafide',\n",
              " 'LA_0006': 'spoof',\n",
              " 'LA_0013': 'spoof',\n",
              " 'LA_0048': 'spoof'}"
            ]
          },
          "execution_count": 21,
          "metadata": {},
          "output_type": "execute_result"
        }
      ],
      "source": [
        "# Get True Labels\n",
        "\n",
        "# Path to the ASVspoof 2019 protocol file\n",
        "PROTOCOL_FILE_PATH = \"test_eval.txt\"\n",
        "\n",
        "# Dictionary to store true labels for each file\n",
        "true_labels = {}\n",
        "\n",
        "# Read the protocol file\n",
        "with open(PROTOCOL_FILE_PATH, 'rb') as protocol_file:\n",
        "    lines = protocol_file.read().decode('utf-8').splitlines()\n",
        "    print(lines)\n",
        "\n",
        "for line in lines:\n",
        "    line = line.strip()  # Strip leading/trailing whitespace\n",
        "    parts = line.split()\n",
        "    if len(parts) > 1:  # Check if line has enough parts to extract label\n",
        "        file_name = parts[0]\n",
        "        label = parts[-1]  # Last part contains the label\n",
        "        true_labels[file_name] = label\n",
        "\n",
        "# Now 'true_labels' contains the true labels for each file\n",
        "true_labels"
      ]
    },
    {
      "cell_type": "code",
      "execution_count": 22,
      "metadata": {},
      "outputs": [
        {
          "data": {
            "text/plain": [
              "array([0, 1, 0, 0, 1, 0, 1, 0, 0, 0])"
            ]
          },
          "execution_count": 22,
          "metadata": {},
          "output_type": "execute_result"
        }
      ],
      "source": [
        "y_true = np.array([1 if label == \"bonafide\" else 0 for label in true_labels.values()]) # y_true are the true labels for each file\n",
        "y_true"
      ]
    },
    {
      "cell_type": "code",
      "execution_count": 23,
      "metadata": {},
      "outputs": [
        {
          "data": {
            "image/png": "[encoded data removed]",
            "text/plain": [
              "<Figure size 640x480 with 2 Axes>"
            ]
          },
          "metadata": {},
          "output_type": "display_data"
        }
      ],
      "source": [
        "# CONFUSION MATRIX\n",
        "\n",
        "cm = confusion_matrix(y_true, y_pred_classes)\n",
        "\n",
        "# Display the confusion matrix\n",
        "classes = [\"spoof\", \"bonafide\"]\n",
        "disp = ConfusionMatrixDisplay(confusion_matrix=cm, display_labels=classes)\n",
        "disp.plot(cmap=plt.cm.Blues)\n",
        "plt.title(\"Confusion Matrix\")\n",
        "plt.show()"
      ]
    },
    {
      "cell_type": "code",
      "execution_count": 25,
      "metadata": {},
      "outputs": [
        {
          "name": "stdout",
          "output_type": "stream",
          "text": [
            "1/1 [==============================] - 0s 22ms/step\n"
          ]
        },
        {
          "data": {
            "image/png": "[encoded data removed]",
            "text/plain": [
              "<Figure size 640x480 with 1 Axes>"
            ]
          },
          "metadata": {},
          "output_type": "display_data"
        }
      ],
      "source": [
        "# ROC Curve\n",
        "\n",
        "from sklearn.metrics import roc_curve, auc\n",
        "\n",
        "# Predict using the loaded model\n",
        "y_pred = model.predict(X_test)\n",
        "\n",
        "# Get the predicted probabilities for the positive class\n",
        "y_pred_prob = y_pred[:, 1]\n",
        "\n",
        "# Compute ROC curve and AUC\n",
        "fpr, tpr, _ = roc_curve(y_true, y_pred_prob)\n",
        "roc_auc = auc(fpr, tpr)\n",
        "\n",
        "# Plot ROC curve\n",
        "plt.figure()\n",
        "plt.plot(fpr, tpr, color='darkorange', lw=2, label='ROC curve (area = %0.2f)' % roc_auc)\n",
        "plt.plot([0, 1], [0, 1], color='navy', lw=2, linestyle='--')\n",
        "plt.xlim([0.0, 1.0])\n",
        "plt.ylim([0.0, 1.05])\n",
        "plt.xlabel('False Positive Rate')\n",
        "plt.ylabel('True Positive Rate')\n",
        "plt.title('Receiver Operating Characteristic')\n",
        "plt.legend(loc=\"lower right\")\n",
        "plt.show()"
      ]
    }
  ],
  "metadata": {
    "accelerator": "TPU",
    "colab": {
      "provenance": []
    },
    "kernelspec": {
      "display_name": "Python 3",
      "name": "python3"
    },
    "language_info": {
      "codemirror_mode": {
        "name": "ipython",
        "version": 3
      },
      "file_extension": ".py",
      "mimetype": "text/x-python",
      "name": "python",
      "nbconvert_exporter": "python",
      "pygments_lexer": "ipython3",
      "version": "3.11.1"
    }
  },
  "nbformat": 4,
  "nbformat_minor": 0
}
